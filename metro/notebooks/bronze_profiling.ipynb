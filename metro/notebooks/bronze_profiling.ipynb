{
 "cells": [
  {
   "cell_type": "code",
   "execution_count": 5,
   "id": "dd38487e",
   "metadata": {},
   "outputs": [],
   "source": [
    "import pyspark, json\n",
    "import pandas as pd\n",
    "from pyspark.sql import SparkSession\n",
    "from pyspark.sql.functions import (\n",
    "    col,\n",
    "    sum as spark_sum,\n",
    "    date_format,\n",
    "    year,\n",
    "    min as spark_min,\n",
    "    max as spark_max,\n",
    "    countDistinct,\n",
    "    date_format,\n",
    ")\n",
    "from config.config import Config\n",
    "\n",
    "# Initialise config\n",
    "config = Config()\n",
    "\n",
    "# Pandas display all data\n",
    "pd.set_option(\"display.max_columns\", None)"
   ]
  },
  {
   "cell_type": "code",
   "execution_count": 6,
   "id": "8be58d4c",
   "metadata": {},
   "outputs": [],
   "source": [
    "# Initialise Spark\n",
    "spark = SparkSession.builder.getOrCreate()"
   ]
  },
  {
   "cell_type": "code",
   "execution_count": 7,
   "id": "34d0a0e8",
   "metadata": {},
   "outputs": [],
   "source": [
    "# Profiling report\n",
    "report = {}\n",
    "\n",
    "# Load data\n",
    "train_patron = spark.read.csv(f\"{config.BRONZE_DATA_PATH}/train_patrons.csv\", header=True, inferSchema=True)"
   ]
  },
  {
   "cell_type": "code",
   "execution_count": 8,
   "id": "fd05a17d",
   "metadata": {},
   "outputs": [
    {
     "name": "stdout",
     "output_type": "stream",
     "text": [
      "root\n",
      " |-- Business_Date: date (nullable = true)\n",
      " |-- Day_of_Week: string (nullable = true)\n",
      " |-- Day_Type: string (nullable = true)\n",
      " |-- Mode: string (nullable = true)\n",
      " |-- Train_Number: string (nullable = true)\n",
      " |-- Line_Name: string (nullable = true)\n",
      " |-- Group: string (nullable = true)\n",
      " |-- Direction: string (nullable = true)\n",
      " |-- Origin_Station: string (nullable = true)\n",
      " |-- Destination_Station: string (nullable = true)\n",
      " |-- Station_Name: string (nullable = true)\n",
      " |-- Station_Latitude: double (nullable = true)\n",
      " |-- Station_Longitude: double (nullable = true)\n",
      " |-- Station_Chainage: integer (nullable = true)\n",
      " |-- Stop_Sequence_Number: integer (nullable = true)\n",
      " |-- Arrival_Time_Scheduled: timestamp (nullable = true)\n",
      " |-- Departure_Time_Scheduled: timestamp (nullable = true)\n",
      " |-- Passenger_Boardings: integer (nullable = true)\n",
      " |-- Passenger_Alightings: integer (nullable = true)\n",
      " |-- Passenger_Arrival_Load: integer (nullable = true)\n",
      " |-- Passenger_Departure_Load: integer (nullable = true)\n",
      "\n",
      "+-------------+-----------+--------------+-----+------------+---------+--------+---------+---------------+-------------------+------------+----------------+-----------------+----------------+--------------------+----------------------+------------------------+-------------------+--------------------+----------------------+------------------------+\n",
      "|Business_Date|Day_of_Week|Day_Type      |Mode |Train_Number|Line_Name|Group   |Direction|Origin_Station |Destination_Station|Station_Name|Station_Latitude|Station_Longitude|Station_Chainage|Stop_Sequence_Number|Arrival_Time_Scheduled|Departure_Time_Scheduled|Passenger_Boardings|Passenger_Alightings|Passenger_Arrival_Load|Passenger_Departure_Load|\n",
      "+-------------+-----------+--------------+-----+------------+---------+--------+---------+---------------+-------------------+------------+----------------+-----------------+----------------+--------------------+----------------------+------------------------+-------------------+--------------------+----------------------+------------------------+\n",
      "|2023-07-10   |Monday     |Normal Weekday|Metro|6001        |Sunbury  |Northern|D        |Flinders Street|Sunbury            |Sunbury     |-37.57909097    |144.7273188      |38279           |15                  |2025-08-12 05:48:00   |2025-08-12 05:48:00     |0                  |0                   |0                     |0                       |\n",
      "|2023-07-10   |Monday     |Normal Weekday|Metro|6003        |Sunbury  |Northern|D        |Flinders Street|Sunbury            |Sunbury     |-37.57909097    |144.7273188      |38279           |15                  |2025-08-12 06:08:00   |2025-08-12 06:08:00     |0                  |0                   |0                     |0                       |\n",
      "|2023-07-10   |Monday     |Normal Weekday|Metro|6005        |Sunbury  |Northern|D        |Flinders Street|Sunbury            |Sunbury     |-37.57909097    |144.7273188      |38279           |15                  |2025-08-12 06:28:00   |2025-08-12 06:28:00     |0                  |10                  |10                    |0                       |\n",
      "|2023-07-10   |Monday     |Normal Weekday|Metro|6007        |Sunbury  |Northern|D        |Flinders Street|Sunbury            |Sunbury     |-37.57909097    |144.7273188      |38279           |15                  |2025-08-12 06:48:00   |2025-08-12 06:48:00     |0                  |10                  |10                    |0                       |\n",
      "|2023-07-10   |Monday     |Normal Weekday|Metro|6009        |Sunbury  |Northern|D        |Flinders Street|Sunbury            |Sunbury     |-37.57909097    |144.7273188      |38279           |15                  |2025-08-12 07:07:00   |2025-08-12 07:07:00     |0                  |10                  |10                    |0                       |\n",
      "+-------------+-----------+--------------+-----+------------+---------+--------+---------+---------------+-------------------+------------+----------------+-----------------+----------------+--------------------+----------------------+------------------------+-------------------+--------------------+----------------------+------------------------+\n",
      "only showing top 5 rows\n",
      "\n",
      "Total rows: 15,612,868\n"
     ]
    }
   ],
   "source": [
    "# Quick schema and row count check\n",
    "\n",
    "train_patron.printSchema()\n",
    "train_patron.show(5, truncate=False)\n",
    "total_rows = train_patron.count()\n",
    "\n",
    "# Add schema and row count to report\n",
    "report[\"schema\"] = str(train_patron.schema.json())\n",
    "report[\"total_rows\"] = total_rows\n",
    "\n",
    "print(f\"Total rows: {total_rows:,}\")"
   ]
  },
  {
   "cell_type": "code",
   "execution_count": 9,
   "id": "ad854df9",
   "metadata": {},
   "outputs": [],
   "source": [
    "# Column lists\n",
    "\n",
    "key_cols = [\"Business_Date\", \"Train_Number\", \"Station_Name\", \"Arrival_Time_Scheduled\"]\n",
    "numeric_cols = [\n",
    "    \"Passenger_Boardings\", \"Passenger_Alightings\",\n",
    "    \"Passenger_Arrival_Load\", \"Passenger_Departure_Load\",\n",
    "    \"Station_Latitude\", \"Station_Longitude\",\n",
    "    \"Station_Chainage\", \"Stop_Sequence_Number\"\n",
    "]\n",
    "cat_cols = [\n",
    "    \"Day_of_Week\", \"Day_Type\", \"Mode\", \"Line_Name\", \"Group\", \"Direction\"\n",
    "]"
   ]
  },
  {
   "cell_type": "code",
   "execution_count": 10,
   "id": "2373b9ba",
   "metadata": {},
   "outputs": [
    {
     "name": "stdout",
     "output_type": "stream",
     "text": [
      "Null counts per column\n"
     ]
    },
    {
     "data": {
      "text/html": [
       "<div>\n",
       "<style scoped>\n",
       "    .dataframe tbody tr th:only-of-type {\n",
       "        vertical-align: middle;\n",
       "    }\n",
       "\n",
       "    .dataframe tbody tr th {\n",
       "        vertical-align: top;\n",
       "    }\n",
       "\n",
       "    .dataframe thead th {\n",
       "        text-align: right;\n",
       "    }\n",
       "</style>\n",
       "<table border=\"1\" class=\"dataframe\">\n",
       "  <thead>\n",
       "    <tr style=\"text-align: right;\">\n",
       "      <th></th>\n",
       "      <th>null_count</th>\n",
       "    </tr>\n",
       "  </thead>\n",
       "  <tbody>\n",
       "    <tr>\n",
       "      <th>Business_Date</th>\n",
       "      <td>0</td>\n",
       "    </tr>\n",
       "    <tr>\n",
       "      <th>Day_of_Week</th>\n",
       "      <td>0</td>\n",
       "    </tr>\n",
       "    <tr>\n",
       "      <th>Day_Type</th>\n",
       "      <td>0</td>\n",
       "    </tr>\n",
       "    <tr>\n",
       "      <th>Mode</th>\n",
       "      <td>0</td>\n",
       "    </tr>\n",
       "    <tr>\n",
       "      <th>Train_Number</th>\n",
       "      <td>0</td>\n",
       "    </tr>\n",
       "    <tr>\n",
       "      <th>Line_Name</th>\n",
       "      <td>0</td>\n",
       "    </tr>\n",
       "    <tr>\n",
       "      <th>Group</th>\n",
       "      <td>51248</td>\n",
       "    </tr>\n",
       "    <tr>\n",
       "      <th>Direction</th>\n",
       "      <td>0</td>\n",
       "    </tr>\n",
       "    <tr>\n",
       "      <th>Origin_Station</th>\n",
       "      <td>0</td>\n",
       "    </tr>\n",
       "    <tr>\n",
       "      <th>Destination_Station</th>\n",
       "      <td>0</td>\n",
       "    </tr>\n",
       "    <tr>\n",
       "      <th>Station_Name</th>\n",
       "      <td>0</td>\n",
       "    </tr>\n",
       "    <tr>\n",
       "      <th>Station_Latitude</th>\n",
       "      <td>0</td>\n",
       "    </tr>\n",
       "    <tr>\n",
       "      <th>Station_Longitude</th>\n",
       "      <td>0</td>\n",
       "    </tr>\n",
       "    <tr>\n",
       "      <th>Station_Chainage</th>\n",
       "      <td>0</td>\n",
       "    </tr>\n",
       "    <tr>\n",
       "      <th>Stop_Sequence_Number</th>\n",
       "      <td>0</td>\n",
       "    </tr>\n",
       "    <tr>\n",
       "      <th>Arrival_Time_Scheduled</th>\n",
       "      <td>0</td>\n",
       "    </tr>\n",
       "    <tr>\n",
       "      <th>Departure_Time_Scheduled</th>\n",
       "      <td>0</td>\n",
       "    </tr>\n",
       "    <tr>\n",
       "      <th>Passenger_Boardings</th>\n",
       "      <td>0</td>\n",
       "    </tr>\n",
       "    <tr>\n",
       "      <th>Passenger_Alightings</th>\n",
       "      <td>0</td>\n",
       "    </tr>\n",
       "    <tr>\n",
       "      <th>Passenger_Arrival_Load</th>\n",
       "      <td>0</td>\n",
       "    </tr>\n",
       "    <tr>\n",
       "      <th>Passenger_Departure_Load</th>\n",
       "      <td>0</td>\n",
       "    </tr>\n",
       "  </tbody>\n",
       "</table>\n",
       "</div>"
      ],
      "text/plain": [
       "                          null_count\n",
       "Business_Date                      0\n",
       "Day_of_Week                        0\n",
       "Day_Type                           0\n",
       "Mode                               0\n",
       "Train_Number                       0\n",
       "Line_Name                          0\n",
       "Group                          51248\n",
       "Direction                          0\n",
       "Origin_Station                     0\n",
       "Destination_Station                0\n",
       "Station_Name                       0\n",
       "Station_Latitude                   0\n",
       "Station_Longitude                  0\n",
       "Station_Chainage                   0\n",
       "Stop_Sequence_Number               0\n",
       "Arrival_Time_Scheduled             0\n",
       "Departure_Time_Scheduled           0\n",
       "Passenger_Boardings                0\n",
       "Passenger_Alightings               0\n",
       "Passenger_Arrival_Load             0\n",
       "Passenger_Departure_Load           0"
      ]
     },
     "metadata": {},
     "output_type": "display_data"
    },
    {
     "name": "stdout",
     "output_type": "stream",
     "text": [
      "\n",
      "Numeric columns min/max\n"
     ]
    },
    {
     "data": {
      "text/html": [
       "<div>\n",
       "<style scoped>\n",
       "    .dataframe tbody tr th:only-of-type {\n",
       "        vertical-align: middle;\n",
       "    }\n",
       "\n",
       "    .dataframe tbody tr th {\n",
       "        vertical-align: top;\n",
       "    }\n",
       "\n",
       "    .dataframe thead th {\n",
       "        text-align: right;\n",
       "    }\n",
       "</style>\n",
       "<table border=\"1\" class=\"dataframe\">\n",
       "  <thead>\n",
       "    <tr style=\"text-align: right;\">\n",
       "      <th></th>\n",
       "      <th>min</th>\n",
       "      <th>max</th>\n",
       "    </tr>\n",
       "  </thead>\n",
       "  <tbody>\n",
       "    <tr>\n",
       "      <th>Passenger_Boardings</th>\n",
       "      <td>-10.000000</td>\n",
       "      <td>1890.000000</td>\n",
       "    </tr>\n",
       "    <tr>\n",
       "      <th>Passenger_Alightings</th>\n",
       "      <td>-20.000000</td>\n",
       "      <td>2020.000000</td>\n",
       "    </tr>\n",
       "    <tr>\n",
       "      <th>Passenger_Arrival_Load</th>\n",
       "      <td>-20.000000</td>\n",
       "      <td>2380.000000</td>\n",
       "    </tr>\n",
       "    <tr>\n",
       "      <th>Passenger_Departure_Load</th>\n",
       "      <td>-20.000000</td>\n",
       "      <td>2380.000000</td>\n",
       "    </tr>\n",
       "    <tr>\n",
       "      <th>Station_Latitude</th>\n",
       "      <td>-38.386392</td>\n",
       "      <td>-35.341114</td>\n",
       "    </tr>\n",
       "    <tr>\n",
       "      <th>Station_Longitude</th>\n",
       "      <td>142.475545</td>\n",
       "      <td>147.627614</td>\n",
       "    </tr>\n",
       "    <tr>\n",
       "      <th>Station_Chainage</th>\n",
       "      <td>0.000000</td>\n",
       "      <td>346299.000000</td>\n",
       "    </tr>\n",
       "    <tr>\n",
       "      <th>Stop_Sequence_Number</th>\n",
       "      <td>1.000000</td>\n",
       "      <td>31.000000</td>\n",
       "    </tr>\n",
       "  </tbody>\n",
       "</table>\n",
       "</div>"
      ],
      "text/plain": [
       "                                 min            max\n",
       "Passenger_Boardings       -10.000000    1890.000000\n",
       "Passenger_Alightings      -20.000000    2020.000000\n",
       "Passenger_Arrival_Load    -20.000000    2380.000000\n",
       "Passenger_Departure_Load  -20.000000    2380.000000\n",
       "Station_Latitude          -38.386392     -35.341114\n",
       "Station_Longitude         142.475545     147.627614\n",
       "Station_Chainage            0.000000  346299.000000\n",
       "Stop_Sequence_Number        1.000000      31.000000"
      ]
     },
     "metadata": {},
     "output_type": "display_data"
    }
   ],
   "source": [
    "# Null value profiling\n",
    "\n",
    "agg_exprs = []\n",
    "\n",
    "for c in train_patron.columns:\n",
    "    agg_exprs.append(spark_sum(col(c).isNull().cast(\"int\")).alias(f\"{c}__nulls\"))\n",
    "\n",
    "# Min/Max for numeric columns\n",
    "for c in numeric_cols:\n",
    "    agg_exprs.append(spark_min(col(c)).alias(f\"{c}__min\"))\n",
    "    agg_exprs.append(spark_max(col(c)).alias(f\"{c}__max\"))\n",
    "\n",
    "# Aggregate null counts and min/max values\n",
    "agg_results = train_patron.agg(*agg_exprs).collect()[0].asDict()\n",
    "\n",
    "# Store null counts\n",
    "report[\"null_counts\"] = {\n",
    "    c: agg_results[f\"{c}__nulls\"] for c in train_patron.columns\n",
    "}\n",
    "\n",
    "# Store numeric min/max\n",
    "report[\"numeric_range\"] = {\n",
    "    c: {\n",
    "        \"min\": agg_results[f\"{c}__min\"],\n",
    "        \"max\": agg_results[f\"{c}__max\"]\n",
    "    }\n",
    "    for c in numeric_cols\n",
    "}\n",
    "\n",
    "# Display null counts and numeric ranges\n",
    "print(\"Null counts per column\")\n",
    "nulls_df = pd.DataFrame.from_dict(report[\"null_counts\"], orient='index', columns=['null_count'])\n",
    "display(nulls_df)\n",
    "\n",
    "print(\"\\nNumeric columns min/max\")\n",
    "numeric_stats_df = pd.DataFrame.from_dict(report[\"numeric_range\"], orient='index')\n",
    "display(numeric_stats_df)"
   ]
  },
  {
   "cell_type": "code",
   "execution_count": 11,
   "id": "e49b403f",
   "metadata": {},
   "outputs": [
    {
     "name": "stdout",
     "output_type": "stream",
     "text": [
      "Duplicates: 0\n"
     ]
    }
   ],
   "source": [
    "# Duplicate check\n",
    "\n",
    "total_rows = train_patron.count()\n",
    "distinct_rows = train_patron.distinct().count()\n",
    "duplicate_rows = total_rows - distinct_rows\n",
    "\n",
    "# Store duplicate row count\n",
    "report[\"duplicate_rows\"] = duplicate_rows\n",
    "\n",
    "print(f\"Duplicates: {duplicate_rows}\")"
   ]
  },
  {
   "cell_type": "code",
   "execution_count": 12,
   "id": "f14b27f4",
   "metadata": {},
   "outputs": [
    {
     "name": "stdout",
     "output_type": "stream",
     "text": [
      "                                                                                                                                                                                                                                                                                       Distinct Values\n",
      "Day_of_Week                                                                                                                                                                                                                           [Wednesday, Tuesday, Friday, Thursday, Saturday, Monday, Sunday]\n",
      "Day_Type                                                                                                                                                                                                                            [Normal Weekday, School Holiday, Saturday, Public Holiday, Sunday]\n",
      "Mode                                                                                                                                                                                                                                                                                    [VLine, Metro]\n",
      "Line_Name    [Cranbourne, Upfield, Craigieburn, Flemington Racecourse, Glen Waverley, Stony Point, Frankston, Alamein, Lilydale, Northern, Richmond and City Loop, Sunbury, Mernda, Belgrave, Hurstbridge, Pakenham, Sandringham, Eastern, Werribee, Williamstown, North East, South Western, Western]\n",
      "Group                                                                                                                                        [Caulfield & Cross-City, Burnley, Caulfield, Northern, City Loop, Northern & Cross-City, Clifton Hill, Eastern, North East, South Western, Western, None]\n",
      "Direction                                                                                                                                                                                                                                                                                       [U, D]\n"
     ]
    }
   ],
   "source": [
    "# Categorical value sanity\n",
    "\n",
    "report[\"categorical_values\"] = {\n",
    "    c: [r[0] for r in train_patron.select(c).distinct().collect()]\n",
    "    for c in cat_cols\n",
    "}\n",
    "\n",
    "cat_values_series = pd.Series(report[\"categorical_values\"])\n",
    "print(cat_values_series.to_frame(name=\"Distinct Values\").to_string())"
   ]
  },
  {
   "cell_type": "code",
   "execution_count": 13,
   "id": "f64a5ad1",
   "metadata": {},
   "outputs": [
    {
     "name": "stdout",
     "output_type": "stream",
     "text": [
      "Day of week mismatch: 0\n"
     ]
    }
   ],
   "source": [
    "# Temporal consistency\n",
    "\n",
    "mismatch = train_patron.filter(\n",
    "    date_format(col(\"Business_Date\"), \"EEEE\") != col(\"Day_of_Week\")\n",
    ").count()\n",
    "\n",
    "report[\"day_of_week_mismatch\"] = mismatch\n",
    "\n",
    "print(f\"Day of week mismatch: {mismatch}\")"
   ]
  },
  {
   "cell_type": "code",
   "execution_count": 14,
   "id": "0b13a62b",
   "metadata": {},
   "outputs": [
    {
     "name": "stdout",
     "output_type": "stream",
     "text": [
      "Stations out of bounds: 0\n"
     ]
    }
   ],
   "source": [
    "# Geospatial bounds check\n",
    "# We’ll check if stations fall roughly within Victoria’s bounds:\n",
    "\n",
    "out_of_bounds = train_patron.filter(\n",
    "    ( (col(\"Station_Latitude\") < -39) | (col(\"Station_Latitude\") > -33) |\n",
    "      (col(\"Station_Longitude\") < 140) | (col(\"Station_Longitude\") > 150) )\n",
    ").count()\n",
    "\n",
    "report[\"stations_out_of_bounds\"] = out_of_bounds\n",
    "\n",
    "print(f\"Stations out of bounds: {out_of_bounds}\")"
   ]
  },
  {
   "cell_type": "code",
   "execution_count": 15,
   "id": "703363fb",
   "metadata": {},
   "outputs": [
    {
     "name": "stdout",
     "output_type": "stream",
     "text": [
      "Year mismatch in arrival time: 15612868\n"
     ]
    }
   ],
   "source": [
    "# Time sanity\n",
    "# Checking for suspicious years in Arrival_Time_Scheduled vs Business_Date.\n",
    "\n",
    "time_mismatch = train_patron.filter(\n",
    "    year(col(\"Arrival_Time_Scheduled\")) != year(col(\"Business_Date\"))\n",
    ").count()\n",
    "\n",
    "report[\"year_mismatch_in_times\"] = time_mismatch\n",
    "\n",
    "print(f\"Year mismatch in arrival time: {time_mismatch}\")"
   ]
  },
  {
   "cell_type": "code",
   "execution_count": 16,
   "id": "07d7eadc",
   "metadata": {},
   "outputs": [],
   "source": [
    "# Save report\n",
    "\n",
    "json_path = f\"{config.BRONZE_DATA_PATH}/profiling_report.json\"\n",
    "with open(json_path, \"w\") as f:\n",
    "    json.dump(report, f, indent=2)\n",
    "\n",
    "# Stop Spark session\n",
    "spark.stop()"
   ]
  }
 ],
 "metadata": {
  "kernelspec": {
   "display_name": "venv",
   "language": "python",
   "name": "python3"
  },
  "language_info": {
   "codemirror_mode": {
    "name": "ipython",
    "version": 3
   },
   "file_extension": ".py",
   "mimetype": "text/x-python",
   "name": "python",
   "nbconvert_exporter": "python",
   "pygments_lexer": "ipython3",
   "version": "3.11.0"
  }
 },
 "nbformat": 4,
 "nbformat_minor": 5
}
