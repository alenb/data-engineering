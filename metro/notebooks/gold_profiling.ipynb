{
 "cells": [
  {
   "cell_type": "code",
   "execution_count": null,
   "id": "2710d749",
   "metadata": {},
   "outputs": [],
   "source": [
    "import pandas as pd\n",
    "from delta import configure_spark_with_delta_pip\n",
    "from pyspark.sql import SparkSession\n",
    "from pyspark.sql.functions import (\n",
    "    col,\n",
    "    when,\n",
    "    count,\n",
    ")\n",
    "from pyspark.sql.window import Window\n",
    "from config.config import Config\n",
    "\n",
    "pd.options.display.max_columns = None"
   ]
  },
  {
   "cell_type": "code",
   "execution_count": 4,
   "id": "7875921c",
   "metadata": {},
   "outputs": [],
   "source": [
    "# Initialise configurations\n",
    "config = Config()\n",
    "\n",
    "# Initialise Spark session\n",
    "builder = (\n",
    "    SparkSession.builder.appName(\"CuratedData\")\n",
    "    .config(\"spark.sql.extensions\", \"io.delta.sql.DeltaSparkSessionExtension\")\n",
    "    .config(\n",
    "        \"spark.sql.catalog.spark_catalog\",\n",
    "        \"org.apache.spark.sql.delta.catalog.DeltaCatalog\",\n",
    "    )\n",
    "    .config(\"spark.jars.packages\", \"io.delta:delta-spark_2.12:3.0.0\")\n",
    "    .config(\"spark.driver.memory\", \"4g\")\n",
    "    .config(\"spark.executor.memory\", \"4g\")\n",
    "    .config(\"spark.memory.fraction\", \"0.6\")\n",
    "    .config(\"spark.memory.storageFraction\", \"0.5\")\n",
    ")\n",
    "\n",
    "# Configure Spark with Delta Lake\n",
    "spark = configure_spark_with_delta_pip(builder).getOrCreate()"
   ]
  },
  {
   "cell_type": "code",
   "execution_count": null,
   "id": "52e1b0e6",
   "metadata": {},
   "outputs": [],
   "source": [
    "# Load data\n",
    "dim_date = spark.read.format(\"delta\").load(f\"{config.GOLD_DATA_PATH}/dim_date\")\n",
    "dim_time_bucket = spark.read.format(\"delta\").load(f\"{config.GOLD_DATA_PATH}/dim_time_bucket\")\n",
    "dim_train = spark.read.format(\"delta\").load(f\"{config.GOLD_DATA_PATH}/dim_train\")\n",
    "dim_station = spark.read.format(\"delta\").load(f\"{config.GOLD_DATA_PATH}/dim_station\")\n",
    "dim_line = spark.read.format(\"delta\").load(f\"{config.GOLD_DATA_PATH}/dim_line\")\n",
    "dim_direction = spark.read.format(\"delta\").load(f\"{config.GOLD_DATA_PATH}/dim_direction\")\n",
    "dim_mode = spark.read.format(\"delta\").load(f\"{config.GOLD_DATA_PATH}/dim_mode\")\n",
    "fact_train = spark.read.format(\"delta\").load(f\"{config.GOLD_DATA_PATH}/fact_train\")"
   ]
  },
  {
   "cell_type": "code",
   "execution_count": null,
   "id": "c78a31a6",
   "metadata": {},
   "outputs": [
    {
     "name": "stdout",
     "output_type": "stream",
     "text": [
      "dim_date row count: 366\n",
      "dim_date null counts per column:\n",
      "+--------+-------------+-----------+--------+----+-----+---+\n",
      "|Date_Key|Business_Date|Day_of_Week|Day_Type|year|month|day|\n",
      "+--------+-------------+-----------+--------+----+-----+---+\n",
      "|0       |0            |0          |0       |0   |0    |0  |\n",
      "+--------+-------------+-----------+--------+----+-----+---+\n",
      "\n",
      "dim_time_bucket row count: 48\n",
      "dim_time_bucket null counts per column:\n",
      "+---------------+-----------+----------------------+\n",
      "|Time_Bucket_Key|Time_Bucket|Time_Range_Description|\n",
      "+---------------+-----------+----------------------+\n",
      "|0              |0          |0                     |\n",
      "+---------------+-----------+----------------------+\n",
      "\n",
      "dim_train row count: 21847\n",
      "dim_train null counts per column:\n",
      "+---------+------------+----+---------+-----+---------+--------------+-------------------+\n",
      "|Train_Key|Train_Number|Mode|Line_Name|Group|Direction|Origin_Station|Destination_Station|\n",
      "+---------+------------+----+---------+-----+---------+--------------+-------------------+\n",
      "|0        |0           |0   |0        |0    |0        |0             |0                  |\n",
      "+---------+------------+----+---------+-----+---------+--------------+-------------------+\n",
      "\n",
      "dim_station row count: 315\n",
      "dim_station null counts per column:\n",
      "+-----------+------------+----------------+-----------------+----------------+\n",
      "|Station_Key|Station_Name|Station_Latitude|Station_Longitude|Station_Chainage|\n",
      "+-----------+------------+----------------+-----------------+----------------+\n",
      "|0          |0           |0               |0                |0               |\n",
      "+-----------+------------+----------------+-----------------+----------------+\n",
      "\n",
      "dim_line row count: 26\n",
      "dim_line null counts per column:\n",
      "+--------+---------+-----+\n",
      "|Line_Key|Line_Name|Group|\n",
      "+--------+---------+-----+\n",
      "|0       |0        |0    |\n",
      "+--------+---------+-----+\n",
      "\n",
      "dim_direction row count: 2\n",
      "dim_direction null counts per column:\n",
      "+-------------+---------+---------------------+\n",
      "|Direction_Key|Direction|Direction_Description|\n",
      "+-------------+---------+---------------------+\n",
      "|0            |0        |0                    |\n",
      "+-------------+---------+---------------------+\n",
      "\n",
      "dim_mode row count: 2\n",
      "dim_mode null counts per column:\n",
      "+--------+----+\n",
      "|Mode_Key|Mode|\n",
      "+--------+----+\n",
      "|0       |0   |\n",
      "+--------+----+\n",
      "\n",
      "fact_train row count: 88093984\n",
      "fact_train null counts per column:\n",
      "+-------+--------+---------+-----------+--------+-------------+--------+--------------------+----------------------+------------------------+-----------------------+-------------------------+-------------------+--------------------+----------------------+------------------------+\n",
      "|Fact_ID|Date_Key|Train_Key|Station_Key|Line_Key|Direction_Key|Mode_Key|Stop_Sequence_Number|Arrival_Time_Scheduled|Departure_Time_Scheduled|Arrival_Time_Bucket_Key|Departure_Time_Bucket_Key|Passenger_Boardings|Passenger_Alightings|Passenger_Arrival_Load|Passenger_Departure_Load|\n",
      "+-------+--------+---------+-----------+--------+-------------+--------+--------------------+----------------------+------------------------+-----------------------+-------------------------+-------------------+--------------------+----------------------+------------------------+\n",
      "|0      |0       |0        |0          |0       |0            |0       |0                   |0                     |0                       |0                      |0                        |0                  |0                   |0                     |0                       |\n",
      "+-------+--------+---------+-----------+--------+-------------+--------+--------------------+----------------------+------------------------+-----------------------+-------------------------+-------------------+--------------------+----------------------+------------------------+\n",
      "\n"
     ]
    }
   ],
   "source": [
    "# Basic Counts & Null Checks\n",
    "\n",
    "tables = [\n",
    "    (dim_date, \"dim_date\"),\n",
    "    (dim_time_bucket, \"dim_time_bucket\"),\n",
    "    (dim_train, \"dim_train\"),\n",
    "    (dim_station, \"dim_station\"),\n",
    "    (dim_line, \"dim_line\"),\n",
    "    (dim_direction, \"dim_direction\"),\n",
    "    (dim_mode, \"dim_mode\"),\n",
    "    (fact_train, \"fact_train\"),\n",
    "]\n",
    "\n",
    "for df, name in tables:\n",
    "    print(f\"{name} row count: {df.count()}\")\n",
    "    print(f\"{name} null counts per column:\")\n",
    "    df.select([count(when(col(c).isNull(), c)).alias(c) for c in df.columns]).show(\n",
    "        truncate=False\n",
    "    )"
   ]
  },
  {
   "cell_type": "code",
   "execution_count": null,
   "id": "1332645d",
   "metadata": {},
   "outputs": [
    {
     "name": "stdout",
     "output_type": "stream",
     "text": [
      "Foreign key 'Date_Key' missing in dim_date: 0\n",
      "Foreign key 'Train_Key' missing in dim_train: 0\n",
      "Foreign key 'Station_Key' missing in dim_station: 0\n",
      "Foreign key 'Line_Key' missing in dim_line: 0\n",
      "Foreign key 'Direction_Key' missing in dim_direction: 0\n",
      "Foreign key 'Mode_Key' missing in dim_mode: 0\n",
      "Foreign key 'Arrival_Time_Bucket_Key' missing in dim_time_bucket: 0\n",
      "Foreign key 'Departure_Time_Bucket_Key' missing in dim_time_bucket: 0\n"
     ]
    }
   ],
   "source": [
    "# Check Referential Integrity\n",
    "# Verifying that foreign keys in fact_train exist in dimension tables\n",
    "\n",
    "def check_fk_integrity(fact_df, dim_df, fk_col, pk_col, dim_name):\n",
    "    missing_fk = fact_df.select(fk_col).subtract(dim_df.select(pk_col))\n",
    "    count_missing = missing_fk.count()\n",
    "    print(f\"Foreign key '{fk_col}' missing in {dim_name}: {count_missing}\")\n",
    "    if count_missing > 0:\n",
    "        missing_fk.show()\n",
    "\n",
    "fk_checks = [\n",
    "    (\"Date_Key\", dim_date, \"Date_Key\", \"dim_date\"),\n",
    "    (\"Train_Key\", dim_train, \"Train_Key\", \"dim_train\"),\n",
    "    (\"Station_Key\", dim_station, \"Station_Key\", \"dim_station\"),\n",
    "    (\"Line_Key\", dim_line, \"Line_Key\", \"dim_line\"),\n",
    "    (\"Direction_Key\", dim_direction, \"Direction_Key\", \"dim_direction\"),\n",
    "    (\"Mode_Key\", dim_mode, \"Mode_Key\", \"dim_mode\"),\n",
    "    (\"Arrival_Time_Bucket_Key\", dim_time_bucket, \"Time_Bucket_Key\", \"dim_time_bucket\"),\n",
    "    (\"Departure_Time_Bucket_Key\", dim_time_bucket, \"Time_Bucket_Key\", \"dim_time_bucket\"),\n",
    "]\n",
    "\n",
    "for fk_col, dim_df, pk_col, dim_name in fk_checks:\n",
    "    if fk_col in fact_train.columns:\n",
    "        check_fk_integrity(fact_train, dim_df, fk_col, pk_col, dim_name)"
   ]
  },
  {
   "cell_type": "code",
   "execution_count": 9,
   "id": "c722185f",
   "metadata": {},
   "outputs": [
    {
     "name": "stdout",
     "output_type": "stream",
     "text": [
      "+-------------------+--------------------+------------+------------+-------------+\n",
      "|Passenger_Boardings|Passenger_Alightings|Train_Number|Station_Name|Business_Date|\n",
      "+-------------------+--------------------+------------+------------+-------------+\n",
      "|10                 |0                   |5008        |Merlynston  |2023-12-21   |\n",
      "|10                 |0                   |5008        |Merlynston  |2023-12-21   |\n",
      "|10                 |0                   |5008        |Merlynston  |2023-12-21   |\n",
      "|10                 |0                   |5008        |Merlynston  |2023-12-21   |\n",
      "|10                 |0                   |5008        |Merlynston  |2023-12-21   |\n",
      "|10                 |0                   |5008        |Merlynston  |2023-12-21   |\n",
      "|10                 |0                   |5008        |Merlynston  |2023-12-21   |\n",
      "|10                 |0                   |5008        |Merlynston  |2023-12-21   |\n",
      "|10                 |0                   |5008        |Merlynston  |2023-12-21   |\n",
      "|10                 |0                   |5008        |Merlynston  |2023-12-21   |\n",
      "+-------------------+--------------------+------------+------------+-------------+\n",
      "only showing top 10 rows\n",
      "\n"
     ]
    }
   ],
   "source": [
    "# Sample Spot Checks\n",
    "# Random sample rows from fact with joined dimension data for human-readable validation\n",
    "\n",
    "fact_train.alias(\"f\").join(dim_train.alias(\"t\"), \"Train_Key\") \\\n",
    "    .join(dim_station.alias(\"s\"), \"Station_Key\") \\\n",
    "    .join(dim_date.alias(\"d\"), \"Date_Key\") \\\n",
    "    .select(\"f.Passenger_Boardings\", \"f.Passenger_Alightings\", \"t.Train_Number\", \"s.Station_Name\", \"d.Business_Date\") \\\n",
    "    .show(10, truncate=False)"
   ]
  },
  {
   "cell_type": "code",
   "execution_count": null,
   "id": "b6520401",
   "metadata": {},
   "outputs": [
    {
     "data": {
      "text/plain": [
       "0"
      ]
     },
     "execution_count": 10,
     "metadata": {},
     "output_type": "execute_result"
    }
   ],
   "source": [
    "# Statistical Checks on Measures\n",
    "# Look for unexpected zero or negative values again (should be none now)\n",
    "\n",
    "fact_train.filter((col(\"Passenger_Boardings\") < 0) | (col(\"Passenger_Alightings\") < 0)).count()"
   ]
  },
  {
   "cell_type": "code",
   "execution_count": 11,
   "id": "545d2b08",
   "metadata": {},
   "outputs": [
    {
     "name": "stdout",
     "output_type": "stream",
     "text": [
      "+---------------+----------------------+\n",
      "|Time_Bucket_Key|Time_Range_Description|\n",
      "+---------------+----------------------+\n",
      "|0              |00:00 - 00:00         |\n",
      "|30             |00:30 - 00:00         |\n",
      "|60             |01:00 - 01:01         |\n",
      "|90             |01:30 - 01:01         |\n",
      "|120            |02:00 - 02:02         |\n",
      "|150            |02:30 - 02:02         |\n",
      "|180            |03:00 - 03:03         |\n",
      "|210            |03:30 - 03:03         |\n",
      "|240            |04:00 - 04:04         |\n",
      "|270            |04:30 - 04:04         |\n",
      "|300            |05:00 - 05:05         |\n",
      "|330            |05:30 - 05:05         |\n",
      "|360            |06:00 - 06:06         |\n",
      "|390            |06:30 - 06:06         |\n",
      "|420            |07:00 - 07:07         |\n",
      "|450            |07:30 - 07:07         |\n",
      "|480            |08:00 - 08:08         |\n",
      "|510            |08:30 - 08:08         |\n",
      "|540            |09:00 - 09:09         |\n",
      "|570            |09:30 - 09:09         |\n",
      "+---------------+----------------------+\n",
      "only showing top 20 rows\n",
      "\n"
     ]
    }
   ],
   "source": [
    "# Time Bucket Consistency\n",
    "# Checking time bucket keys only contain expected values\n",
    "\n",
    "dim_time_bucket.select(\"Time_Bucket_Key\", \"Time_Range_Description\").show(truncate=False)"
   ]
  }
 ],
 "metadata": {
  "kernelspec": {
   "display_name": "venv",
   "language": "python",
   "name": "python3"
  },
  "language_info": {
   "codemirror_mode": {
    "name": "ipython",
    "version": 3
   },
   "file_extension": ".py",
   "mimetype": "text/x-python",
   "name": "python",
   "nbconvert_exporter": "python",
   "pygments_lexer": "ipython3",
   "version": "3.11.0"
  }
 },
 "nbformat": 4,
 "nbformat_minor": 5
}
